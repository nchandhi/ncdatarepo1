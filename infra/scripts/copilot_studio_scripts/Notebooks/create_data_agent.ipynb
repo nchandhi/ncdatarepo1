{
 "cells": [
  {
   "cell_type": "code",
   "execution_count": null,
   "id": "f4ea7e3d-0c5b-4452-a870-ff4c68186e53",
   "metadata": {
    "microsoft": {
     "language": "python",
     "language_group": "synapse_pyspark"
    }
   },
   "outputs": [],
   "source": [
    "#%pip install fabric-data-agent-sdk"
   ]
  },
  {
   "cell_type": "code",
   "execution_count": null,
   "id": "e1a3d350-839a-483d-83d2-4b5764265ed2",
   "metadata": {
    "microsoft": {
     "language": "python",
     "language_group": "synapse_pyspark"
    },
    "tags": [
     "parameters"
    ]
   },
   "outputs": [],
   "source": [
    "data_agent_name = ''\n",
    "lakehouse_name = ''"
   ]
  },
  {
   "cell_type": "code",
   "execution_count": null,
   "id": "1e38b7e4-37be-41e0-ba67-587de7087fa0",
   "metadata": {
    "microsoft": {
     "language": "python",
     "language_group": "synapse_pyspark"
    }
   },
   "outputs": [],
   "source": [
    "\n",
    "# Specify the DataAgent\n",
    "from fabric.dataagent.client import (\n",
    "    FabricDataAgentManagement,\n",
    "    create_data_agent,\n",
    "    delete_data_agent,\n",
    ")\n",
    "import json"
   ]
  },
  {
   "cell_type": "code",
   "execution_count": null,
   "id": "dd29561a-a711-4e61-91e9-1cce4b6c2aa7",
   "metadata": {
    "microsoft": {
     "language": "python",
     "language_group": "synapse_pyspark"
    }
   },
   "outputs": [],
   "source": [
    "data_agent = create_data_agent(data_agent_name)\n",
    "data_agent.get_configuration()"
   ]
  },
  {
   "cell_type": "code",
   "execution_count": null,
   "id": "6b4ed115-369c-4828-8956-ab749ea8567c",
   "metadata": {
    "microsoft": {
     "language": "python",
     "language_group": "synapse_pyspark"
    }
   },
   "outputs": [],
   "source": [
    "user_instructions = '''you are a helpful assistant'''\n",
    "\n",
    "data_agent.update_configuration(\n",
    "    instructions=user_instructions,\n",
    ")\n",
    "data_agent.get_configuration()"
   ]
  },
  {
   "cell_type": "code",
   "execution_count": null,
   "id": "20e850c5-5003-41db-bff0-8f5de26b3d56",
   "metadata": {
    "microsoft": {
     "language": "python",
     "language_group": "synapse_pyspark"
    }
   },
   "outputs": [],
   "source": [
    "# add a lakehouse\n",
    "data_agent.add_datasource(lakehouse_name, type=\"lakehouse\")"
   ]
  },
  {
   "cell_type": "code",
   "execution_count": null,
   "id": "c229a130-cdd7-45c1-a8b7-1fe4049f6c49",
   "metadata": {
    "microsoft": {
     "language": "python",
     "language_group": "synapse_pyspark"
    }
   },
   "outputs": [],
   "source": [
    "datasource = data_agent.get_datasources()[0]\n",
    "# datasource.pretty_print()"
   ]
  },
  {
   "cell_type": "code",
   "execution_count": null,
   "id": "fd190f2a-2052-485e-ae40-d48986db9b82",
   "metadata": {
    "microsoft": {
     "language": "python",
     "language_group": "synapse_pyspark"
    }
   },
   "outputs": [],
   "source": [
    "file_path = \"/lakehouse/default/Files/data/tables.json\"\n",
    "with open(file_path, \"r\", encoding=\"utf-8\") as f:\n",
    "    data = json.load(f)\n",
    "for table in data['tables']: \n",
    "    datasource.select(\"dbo\", table['tablename'])"
   ]
  },
  {
   "cell_type": "code",
   "execution_count": null,
   "id": "95b5239a-8977-4a9a-8acb-c4b610c59637",
   "metadata": {
    "microsoft": {
     "language": "python",
     "language_group": "synapse_pyspark"
    }
   },
   "outputs": [],
   "source": [
    "x = data_agent.publish()\n",
    "print(x)"
   ]
  }
 ],
 "metadata": {
  "dependencies": {
   "environment": {
    "environmentId": "1e51b7a7-6915-4a2d-8ec6-ebd935a7f581",
    "workspaceId": "383ef011-f53e-4837-b509-3d614c61e205"
   },
   "lakehouse": {
    "default_lakehouse": "976a1f19-9ff1-4df5-90df-0f984ce40531",
    "default_lakehouse_name": "lakehouse_mr9024",
    "default_lakehouse_workspace_id": "c08c07f1-4217-4131-9276-ab7913ff4e4c",
    "known_lakehouses": [
     {
      "id": "976a1f19-9ff1-4df5-90df-0f984ce40531"
     }
    ]
   }
  },
  "kernel_info": {
   "name": "synapse_pyspark"
  },
  "kernelspec": {
   "display_name": "Synapse PySpark",
   "language": "Python",
   "name": "synapse_pyspark"
  },
  "language_info": {
   "name": "python"
  },
  "microsoft": {
   "language": "python",
   "language_group": "synapse_pyspark",
   "ms_spell_check": {
    "ms_spell_check_language": "en"
   }
  },
  "nteract": {
   "version": "nteract-front-end@1.0.0"
  },
  "spark_compute": {
   "compute_id": "/trident/default",
   "session_options": {
    "conf": {
     "spark.synapse.nbs.session.timeout": "1200000"
    }
   }
  },
  "synapse_widget": {
   "state": {},
   "version": "0.1"
  }
 },
 "nbformat": 4,
 "nbformat_minor": 5
}
